{
 "cells": [
  {
   "cell_type": "markdown",
   "metadata": {},
   "source": [
    "Ref Notebook: https://www.kaggle.com/jeffd23/visualizing-word-vectors-with-t-sne\n",
    "\n",
    "Data: https://www.kaggle.com/c/quora-question-pairs/data\n",
    "\n",
    "About t-SNE: https://www.datacamp.com/community/tutorials/introduction-t-sne"
   ]
  },
  {
   "cell_type": "code",
   "execution_count": 1,
   "metadata": {},
   "outputs": [],
   "source": [
    "# Core Libraries and API's\n",
    "import numpy as np\n",
    "import torch\n",
    "from torch.utils.tensorboard import SummaryWriter\n",
    "import tweepy\n",
    "import re\n",
    "import nltk\n",
    "from gensim.models import word2vec\n",
    "from sklearn.manifold import TSNE\n",
    "from sklearn.decomposition import PCA\n",
    "import pandas as pd\n",
    "pd.options.mode.chained_assignment = None \n",
    "\n",
    "#Plot helpers\n",
    "import matplotlib\n",
    "import matplotlib.pyplot as plt\n",
    "from mpl_toolkits import mplot3d\n",
    "import pylab\n",
    "#Enable matplotlib to be interactive (zoom etc)\n",
    "%matplotlib notebook"
   ]
  },
  {
   "cell_type": "code",
   "execution_count": 2,
   "metadata": {},
   "outputs": [],
   "source": [
    "SW = SummaryWriter()"
   ]
  },
  {
   "cell_type": "code",
   "execution_count": 3,
   "metadata": {
    "collapsed": true
   },
   "outputs": [],
   "source": [
    "data = pd.read_csv('train.csv').sample(50000, random_state=23)"
   ]
  },
  {
   "cell_type": "code",
   "execution_count": 4,
   "metadata": {
    "collapsed": true
   },
   "outputs": [],
   "source": [
    "#nltk.download() if LookupError arises\n",
    "STOP_WORDS = nltk.corpus.stopwords.words()"
   ]
  },
  {
   "cell_type": "code",
   "execution_count": 5,
   "metadata": {
    "collapsed": true
   },
   "outputs": [],
   "source": [
    "def clean_sentence(val):\n",
    "    '''remove chars that are not letters or numbers, downcase, then remove stop words'''\n",
    "    regex = re.compile('([^\\s\\w]|_)+')\n",
    "    sentence = regex.sub('', val).lower()\n",
    "    sentence = sentence.split(\" \")\n",
    "    \n",
    "    for word in list(sentence):\n",
    "        if word in STOP_WORDS:\n",
    "            sentence.remove(word)  \n",
    "            \n",
    "    sentence = \" \".join(sentence)\n",
    "    return sentence"
   ]
  },
  {
   "cell_type": "code",
   "execution_count": 6,
   "metadata": {
    "collapsed": true
   },
   "outputs": [],
   "source": [
    "def clean_dataframe(data):\n",
    "    '''drop nans, then apply 'clean_sentence' function to question1 and 2'''\n",
    "    data = data.dropna(how=\"any\")\n",
    "    \n",
    "    for col in ['question1', 'question2']:\n",
    "        data[col] = data[col].apply(clean_sentence)\n",
    "    \n",
    "    return data"
   ]
  },
  {
   "cell_type": "code",
   "execution_count": 7,
   "metadata": {},
   "outputs": [
    {
     "data": {
      "text/html": [
       "<div>\n",
       "<style>\n",
       "    .dataframe thead tr:only-child th {\n",
       "        text-align: right;\n",
       "    }\n",
       "\n",
       "    .dataframe thead th {\n",
       "        text-align: left;\n",
       "    }\n",
       "\n",
       "    .dataframe tbody tr th {\n",
       "        vertical-align: top;\n",
       "    }\n",
       "</style>\n",
       "<table border=\"1\" class=\"dataframe\">\n",
       "  <thead>\n",
       "    <tr style=\"text-align: right;\">\n",
       "      <th></th>\n",
       "      <th>id</th>\n",
       "      <th>qid1</th>\n",
       "      <th>qid2</th>\n",
       "      <th>question1</th>\n",
       "      <th>question2</th>\n",
       "      <th>is_duplicate</th>\n",
       "    </tr>\n",
       "  </thead>\n",
       "  <tbody>\n",
       "    <tr>\n",
       "      <th>237921</th>\n",
       "      <td>237921</td>\n",
       "      <td>9732</td>\n",
       "      <td>79801</td>\n",
       "      <td>sex necessary relationship</td>\n",
       "      <td>sex important good relationship</td>\n",
       "      <td>1</td>\n",
       "    </tr>\n",
       "    <tr>\n",
       "      <th>181001</th>\n",
       "      <td>181001</td>\n",
       "      <td>277377</td>\n",
       "      <td>277378</td>\n",
       "      <td>inspiring start stories</td>\n",
       "      <td>inspirational stories ever</td>\n",
       "      <td>0</td>\n",
       "    </tr>\n",
       "    <tr>\n",
       "      <th>294691</th>\n",
       "      <td>294691</td>\n",
       "      <td>150129</td>\n",
       "      <td>93109</td>\n",
       "      <td>best way digital marketing</td>\n",
       "      <td>best unique ways digital marketing</td>\n",
       "      <td>1</td>\n",
       "    </tr>\n",
       "    <tr>\n",
       "      <th>104145</th>\n",
       "      <td>104145</td>\n",
       "      <td>171986</td>\n",
       "      <td>171987</td>\n",
       "      <td>best way grow facebook fan page</td>\n",
       "      <td>get followers facebook page</td>\n",
       "      <td>1</td>\n",
       "    </tr>\n",
       "    <tr>\n",
       "      <th>357893</th>\n",
       "      <td>357893</td>\n",
       "      <td>487310</td>\n",
       "      <td>487311</td>\n",
       "      <td>suppose host sends two tcp segments back back ...</td>\n",
       "      <td>suppose host sends two tcp segments back back ...</td>\n",
       "      <td>1</td>\n",
       "    </tr>\n",
       "  </tbody>\n",
       "</table>\n",
       "</div>"
      ],
      "text/plain": [
       "            id    qid1    qid2  \\\n",
       "237921  237921    9732   79801   \n",
       "181001  181001  277377  277378   \n",
       "294691  294691  150129   93109   \n",
       "104145  104145  171986  171987   \n",
       "357893  357893  487310  487311   \n",
       "\n",
       "                                                question1  \\\n",
       "237921                         sex necessary relationship   \n",
       "181001                            inspiring start stories   \n",
       "294691                         best way digital marketing   \n",
       "104145                    best way grow facebook fan page   \n",
       "357893  suppose host sends two tcp segments back back ...   \n",
       "\n",
       "                                                question2  is_duplicate  \n",
       "237921                    sex important good relationship             1  \n",
       "181001                         inspirational stories ever             0  \n",
       "294691                 best unique ways digital marketing             1  \n",
       "104145                        get followers facebook page             1  \n",
       "357893  suppose host sends two tcp segments back back ...             1  "
      ]
     },
     "execution_count": 7,
     "metadata": {},
     "output_type": "execute_result"
    }
   ],
   "source": [
    "data = clean_dataframe(data)\n",
    "data.head(5)"
   ]
  },
  {
   "cell_type": "code",
   "execution_count": 8,
   "metadata": {
    "collapsed": true
   },
   "outputs": [],
   "source": [
    "def build_corpus(data):\n",
    "    \"Creates a list of lists containing words from each sentence\"\n",
    "    all_words = []\n",
    "    corpus = []\n",
    "    for col in ['question1', 'question2']:\n",
    "        for sentence in data[col].iteritems():\n",
    "#             print(sentence[0])\n",
    "            word_list = sentence[1].split(\" \")\n",
    "            [all_words.append(x) for x in word_list]\n",
    "            corpus.append(word_list)\n",
    "            \n",
    "    return corpus, all_words"
   ]
  },
  {
   "cell_type": "code",
   "execution_count": 9,
   "metadata": {
    "scrolled": false
   },
   "outputs": [],
   "source": [
    "corpus, vocab = build_corpus(data)        \n",
    "# corpus[0:5]"
   ]
  },
  {
   "cell_type": "code",
   "execution_count": 10,
   "metadata": {},
   "outputs": [],
   "source": [
    "model1 = word2vec.Word2Vec(corpus, size=100, window=20, min_count=200, workers=4)"
   ]
  },
  {
   "cell_type": "code",
   "execution_count": 14,
   "metadata": {},
   "outputs": [],
   "source": [
    "# vecs, meta = [], []\n",
    "vocab = list(model1.wv.vocab.keys())\n",
    "vocab.remove('')\n",
    "vecs = [model1.wv[x] for x in vocab]\n",
    "meta = [x for x in vocab]\n",
    "vecs = np.array(vecs)"
   ]
  },
  {
   "cell_type": "code",
   "execution_count": 15,
   "metadata": {},
   "outputs": [],
   "source": [
    "SW.add_embedding(vecs, meta)"
   ]
  },
  {
   "cell_type": "code",
   "execution_count": null,
   "metadata": {
    "collapsed": true
   },
   "outputs": [],
   "source": [
    "model1.most_similar()"
   ]
  },
  {
   "cell_type": "code",
   "execution_count": null,
   "metadata": {
    "collapsed": true
   },
   "outputs": [],
   "source": [
    "def tsne_plot_3D(model):\n",
    "    \"Creates and TSNE model and plots it\"\n",
    "    labels = []\n",
    "    tokens = []\n",
    "\n",
    "    for word in model.wv.vocab:\n",
    "        tokens.append(model[word])\n",
    "        labels.append(word)\n",
    "    \n",
    "    tsne_model = TSNE(perplexity=40, n_components=2, init='pca', n_iter=2500, random_state=23)\n",
    "    new_values = tsne_model.fit_transform(tokens)\n",
    "\n",
    "    x = []\n",
    "    y = []\n",
    "    z = []\n",
    "    for value,idx in zip(new_values,range(len(new_values))):\n",
    "        x.append(value[0])\n",
    "        y.append(value[1])\n",
    "        z.append(idx)\n",
    "        \n",
    "    plt.figure(figsize=(20, 20)) \n",
    "    ax = plt.axes(projection=\"3d\")\n",
    "    \n",
    "    for i in range(len(x)):\n",
    "        ax.scatter3D(z[i],x[i],y[i])\n",
    "        ax.text(z[i],x[i],y[i], '%s' % str(labels[i]),size=10, zorder=1,  color='k')\n",
    "        '''pylab.annotate(labels[i],\n",
    "                     xy=(x[i], y[i]),\n",
    "                     xytext=(2, 2),\n",
    "                     textcoords='offset points',\n",
    "                     ha='right',\n",
    "                     va='bottom')'''\n",
    "    plt.show()"
   ]
  }
 ],
 "metadata": {
  "kernelspec": {
   "display_name": "Python 3",
   "language": "python",
   "name": "python3"
  },
  "language_info": {
   "codemirror_mode": {
    "name": "ipython",
    "version": 3
   },
   "file_extension": ".py",
   "mimetype": "text/x-python",
   "name": "python",
   "nbconvert_exporter": "python",
   "pygments_lexer": "ipython3",
   "version": "3.6.2"
  }
 },
 "nbformat": 4,
 "nbformat_minor": 2
}
